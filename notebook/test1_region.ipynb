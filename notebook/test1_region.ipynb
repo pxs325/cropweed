{
 "cells": [
  {
   "cell_type": "code",
   "execution_count": 27,
   "metadata": {},
   "outputs": [
    {
     "name": "stdout",
     "output_type": "stream",
     "text": [
      "(800, 600)\n"
     ]
    }
   ],
   "source": [
    "import tkinter\n",
    "from PIL import Image, ImageTk, ImageDraw\n",
    "\n",
    "image_file = \"/home/prapan/Documents/images/crops/Copy of IMG_1918.JPG\"\n",
    "#w = tkinter.Tk()\n",
    "w = tkinter.Toplevel()\n",
    "\n",
    "img = Image.open(image_file)\n",
    "size = 800, 800, 3\n",
    "img.thumbnail(size)\n",
    "print(img.size)"
   ]
  },
  {
   "cell_type": "code",
   "execution_count": 25,
   "metadata": {},
   "outputs": [
    {
     "name": "stdout",
     "output_type": "stream",
     "text": [
      "480000\n"
     ]
    }
   ],
   "source": [
    "width, height = img.size\n",
    "pixels = [pix[i, j] for i in range(width) for j in range(height)]\n",
    "print(len(pixels))"
   ]
  },
  {
   "cell_type": "code",
   "execution_count": 26,
   "metadata": {
    "collapsed": true
   },
   "outputs": [],
   "source": [
    "\n",
    "width, height = img.size\n",
    "ca = tkinter.Canvas(w, width=width, height=height)\n",
    "ca.pack()\n",
    "photoimg = ImageTk.PhotoImage(\"RGB\", img.size)\n",
    "photoimg.paste(img)\n",
    "ca.create_image(width//2,height//2, image=photoimg)\n",
    "tkinter.mainloop()"
   ]
  },
  {
   "cell_type": "code",
   "execution_count": null,
   "metadata": {
    "collapsed": true
   },
   "outputs": [],
   "source": []
  }
 ],
 "metadata": {
  "kernelspec": {
   "display_name": "Python 3",
   "language": "python",
   "name": "python3"
  },
  "language_info": {
   "codemirror_mode": {
    "name": "ipython",
    "version": 3
   },
   "file_extension": ".py",
   "mimetype": "text/x-python",
   "name": "python",
   "nbconvert_exporter": "python",
   "pygments_lexer": "ipython3",
   "version": "3.6.1"
  }
 },
 "nbformat": 4,
 "nbformat_minor": 2
}
