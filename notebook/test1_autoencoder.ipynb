{
 "cells": [
  {
   "cell_type": "code",
   "execution_count": 1,
   "metadata": {},
   "outputs": [
    {
     "name": "stderr",
     "output_type": "stream",
     "text": [
      "Using TensorFlow backend.\n"
     ]
    }
   ],
   "source": [
    "from keras.layers import Input, Dense\n",
    "from keras.models import Model"
   ]
  },
  {
   "cell_type": "code",
   "execution_count": 3,
   "metadata": {},
   "outputs": [
    {
     "name": "stdout",
     "output_type": "stream",
     "text": [
      "Tensor(\"input_2:0\", shape=(?, 784), dtype=float32)\n"
     ]
    }
   ],
   "source": [
    "# this is the size of our encoded representations\n",
    "encoding_dim = 32  # 32 floats -> compression of factor 24.5, assuming the input is 784 floats\n",
    "\n",
    "# this is our input placeholder\n",
    "input_img = Input(shape=(784,))\n",
    "print(input_img)"
   ]
  },
  {
   "cell_type": "code",
   "execution_count": 4,
   "metadata": {
    "collapsed": true
   },
   "outputs": [],
   "source": [
    "# \"encoded\" is the encoded representation of the input\n",
    "encoded = Dense(encoding_dim, activation='relu')(input_img)\n",
    "# \"decoded\" is the lossy reconstruction of the input\n",
    "decoded = Dense(784, activation='sigmoid')(encoded)\n",
    "# this model maps an input to its reconstruction\n",
    "autoencoder = Model(input_img, decoded)"
   ]
  },
  {
   "cell_type": "code",
   "execution_count": 5,
   "metadata": {
    "collapsed": true
   },
   "outputs": [],
   "source": [
    "# this model maps an input to its encoded representation\n",
    "encoder = Model(input_img, encoded)"
   ]
  },
  {
   "cell_type": "code",
   "execution_count": 6,
   "metadata": {
    "collapsed": true
   },
   "outputs": [],
   "source": [
    "# create a placeholder for an encoded (32-dimensional) input\n",
    "encoded_input = Input(shape=(encoding_dim,))\n",
    "# retrieve the last layer of the autoencoder model\n",
    "decoder_layer = autoencoder.layers[-1]\n",
    "# create the decoder model\n",
    "decoder = Model(encoded_input, decoder_layer(encoded_input))"
   ]
  },
  {
   "cell_type": "code",
   "execution_count": 7,
   "metadata": {
    "collapsed": true
   },
   "outputs": [],
   "source": [
    "autoencoder.compile(optimizer='adadelta', loss='binary_crossentropy')"
   ]
  },
  {
   "cell_type": "code",
   "execution_count": 17,
   "metadata": {
    "collapsed": true
   },
   "outputs": [],
   "source": [
    "from keras.datasets import mnist\n",
    "import numpy as np\n",
    "(x_train, _), (x_test, _) = mnist.load_data()"
   ]
  },
  {
   "cell_type": "code",
   "execution_count": 18,
   "metadata": {},
   "outputs": [
    {
     "name": "stdout",
     "output_type": "stream",
     "text": [
      "(60000, 28, 28)\n",
      "(10000, 28, 28)\n",
      "10000\n",
      "[[[0 0 0 ..., 0 0 0]\n",
      "  [0 0 0 ..., 0 0 0]\n",
      "  [0 0 0 ..., 0 0 0]\n",
      "  ..., \n",
      "  [0 0 0 ..., 0 0 0]\n",
      "  [0 0 0 ..., 0 0 0]\n",
      "  [0 0 0 ..., 0 0 0]]\n",
      "\n",
      " [[0 0 0 ..., 0 0 0]\n",
      "  [0 0 0 ..., 0 0 0]\n",
      "  [0 0 0 ..., 0 0 0]\n",
      "  ..., \n",
      "  [0 0 0 ..., 0 0 0]\n",
      "  [0 0 0 ..., 0 0 0]\n",
      "  [0 0 0 ..., 0 0 0]]\n",
      "\n",
      " [[0 0 0 ..., 0 0 0]\n",
      "  [0 0 0 ..., 0 0 0]\n",
      "  [0 0 0 ..., 0 0 0]\n",
      "  ..., \n",
      "  [0 0 0 ..., 0 0 0]\n",
      "  [0 0 0 ..., 0 0 0]\n",
      "  [0 0 0 ..., 0 0 0]]\n",
      "\n",
      " ..., \n",
      " [[0 0 0 ..., 0 0 0]\n",
      "  [0 0 0 ..., 0 0 0]\n",
      "  [0 0 0 ..., 0 0 0]\n",
      "  ..., \n",
      "  [0 0 0 ..., 0 0 0]\n",
      "  [0 0 0 ..., 0 0 0]\n",
      "  [0 0 0 ..., 0 0 0]]\n",
      "\n",
      " [[0 0 0 ..., 0 0 0]\n",
      "  [0 0 0 ..., 0 0 0]\n",
      "  [0 0 0 ..., 0 0 0]\n",
      "  ..., \n",
      "  [0 0 0 ..., 0 0 0]\n",
      "  [0 0 0 ..., 0 0 0]\n",
      "  [0 0 0 ..., 0 0 0]]\n",
      "\n",
      " [[0 0 0 ..., 0 0 0]\n",
      "  [0 0 0 ..., 0 0 0]\n",
      "  [0 0 0 ..., 0 0 0]\n",
      "  ..., \n",
      "  [0 0 0 ..., 0 0 0]\n",
      "  [0 0 0 ..., 0 0 0]\n",
      "  [0 0 0 ..., 0 0 0]]]\n"
     ]
    }
   ],
   "source": [
    "print(x_train.shape)\n",
    "print(x_test.shape)\n",
    "print(len(x_test))\n",
    "print(x_test)"
   ]
  },
  {
   "cell_type": "code",
   "execution_count": 19,
   "metadata": {},
   "outputs": [
    {
     "name": "stdout",
     "output_type": "stream",
     "text": [
      "(60000, 784)\n",
      "(10000, 784)\n",
      "[[ 0.  0.  0. ...,  0.  0.  0.]\n",
      " [ 0.  0.  0. ...,  0.  0.  0.]\n",
      " [ 0.  0.  0. ...,  0.  0.  0.]\n",
      " ..., \n",
      " [ 0.  0.  0. ...,  0.  0.  0.]\n",
      " [ 0.  0.  0. ...,  0.  0.  0.]\n",
      " [ 0.  0.  0. ...,  0.  0.  0.]]\n"
     ]
    }
   ],
   "source": [
    "#We will normalize all values between 0 and 1 and we will flatten the 28x28 images into vectors of size 784.\n",
    "x_train = x_train.astype('float32') / 255.\n",
    "x_test = x_test.astype('float32') / 255.\n",
    "x_train = x_train.reshape((len(x_train), np.prod(x_train.shape[1:])))\n",
    "x_test = x_test.reshape((len(x_test), np.prod(x_test.shape[1:])))\n",
    "print(x_train.shape)\n",
    "print(x_test.shape)\n",
    "print(x_test)"
   ]
  },
  {
   "cell_type": "code",
   "execution_count": 20,
   "metadata": {},
   "outputs": [
    {
     "name": "stdout",
     "output_type": "stream",
     "text": [
      "Train on 60000 samples, validate on 10000 samples\n",
      "Epoch 1/50\n",
      "60000/60000 [==============================] - 2s - loss: 0.3795 - val_loss: 0.2729\n",
      "Epoch 2/50\n",
      "60000/60000 [==============================] - 1s - loss: 0.2661 - val_loss: 0.2558\n",
      "Epoch 3/50\n",
      "60000/60000 [==============================] - 1s - loss: 0.2456 - val_loss: 0.2331\n",
      "Epoch 4/50\n",
      "60000/60000 [==============================] - 1s - loss: 0.2252 - val_loss: 0.2150\n",
      "Epoch 5/50\n",
      "60000/60000 [==============================] - 2s - loss: 0.2099 - val_loss: 0.2024\n",
      "Epoch 6/50\n",
      "60000/60000 [==============================] - 2s - loss: 0.1991 - val_loss: 0.1929\n",
      "Epoch 7/50\n",
      "60000/60000 [==============================] - 2s - loss: 0.1904 - val_loss: 0.1848\n",
      "Epoch 8/50\n",
      "60000/60000 [==============================] - 2s - loss: 0.1827 - val_loss: 0.1777\n",
      "Epoch 9/50\n",
      "60000/60000 [==============================] - 2s - loss: 0.1761 - val_loss: 0.1716\n",
      "Epoch 10/50\n",
      "60000/60000 [==============================] - 2s - loss: 0.1704 - val_loss: 0.1664\n",
      "Epoch 11/50\n",
      "60000/60000 [==============================] - 2s - loss: 0.1656 - val_loss: 0.1618\n",
      "Epoch 12/50\n",
      "60000/60000 [==============================] - 2s - loss: 0.1613 - val_loss: 0.1577\n",
      "Epoch 13/50\n",
      "60000/60000 [==============================] - 2s - loss: 0.1574 - val_loss: 0.1539\n",
      "Epoch 14/50\n",
      "60000/60000 [==============================] - 2s - loss: 0.1538 - val_loss: 0.1504\n",
      "Epoch 15/50\n",
      "60000/60000 [==============================] - 2s - loss: 0.1505 - val_loss: 0.1474\n",
      "Epoch 16/50\n",
      "60000/60000 [==============================] - 1s - loss: 0.1475 - val_loss: 0.1444\n",
      "Epoch 17/50\n",
      "60000/60000 [==============================] - 2s - loss: 0.1447 - val_loss: 0.1419\n",
      "Epoch 18/50\n",
      "60000/60000 [==============================] - 1s - loss: 0.1421 - val_loss: 0.1392\n",
      "Epoch 19/50\n",
      "60000/60000 [==============================] - 2s - loss: 0.1398 - val_loss: 0.1369\n",
      "Epoch 20/50\n",
      "60000/60000 [==============================] - 1s - loss: 0.1375 - val_loss: 0.1348\n",
      "Epoch 21/50\n",
      "60000/60000 [==============================] - 1s - loss: 0.1354 - val_loss: 0.1327\n",
      "Epoch 22/50\n",
      "60000/60000 [==============================] - 1s - loss: 0.1334 - val_loss: 0.1307\n",
      "Epoch 23/50\n",
      "60000/60000 [==============================] - 2s - loss: 0.1315 - val_loss: 0.1289\n",
      "Epoch 24/50\n",
      "60000/60000 [==============================] - 1s - loss: 0.1297 - val_loss: 0.1271\n",
      "Epoch 25/50\n",
      "60000/60000 [==============================] - 1s - loss: 0.1279 - val_loss: 0.1254\n",
      "Epoch 26/50\n",
      "60000/60000 [==============================] - 1s - loss: 0.1262 - val_loss: 0.1237\n",
      "Epoch 27/50\n",
      "60000/60000 [==============================] - 1s - loss: 0.1246 - val_loss: 0.1222\n",
      "Epoch 28/50\n",
      "60000/60000 [==============================] - 1s - loss: 0.1231 - val_loss: 0.1207\n",
      "Epoch 29/50\n",
      "60000/60000 [==============================] - 1s - loss: 0.1216 - val_loss: 0.1192\n",
      "Epoch 30/50\n",
      "60000/60000 [==============================] - 1s - loss: 0.1202 - val_loss: 0.1178\n",
      "Epoch 31/50\n",
      "60000/60000 [==============================] - 1s - loss: 0.1189 - val_loss: 0.1165\n",
      "Epoch 32/50\n",
      "60000/60000 [==============================] - 1s - loss: 0.1176 - val_loss: 0.1152\n",
      "Epoch 33/50\n",
      "60000/60000 [==============================] - 1s - loss: 0.1164 - val_loss: 0.1141\n",
      "Epoch 34/50\n",
      "60000/60000 [==============================] - 1s - loss: 0.1152 - val_loss: 0.1130\n",
      "Epoch 35/50\n",
      "60000/60000 [==============================] - 1s - loss: 0.1142 - val_loss: 0.1119\n",
      "Epoch 36/50\n",
      "60000/60000 [==============================] - 2s - loss: 0.1131 - val_loss: 0.1110\n",
      "Epoch 37/50\n",
      "60000/60000 [==============================] - 1s - loss: 0.1122 - val_loss: 0.1100\n",
      "Epoch 38/50\n",
      "60000/60000 [==============================] - 1s - loss: 0.1113 - val_loss: 0.1091\n",
      "Epoch 39/50\n",
      "60000/60000 [==============================] - 1s - loss: 0.1104 - val_loss: 0.1083\n",
      "Epoch 40/50\n",
      "60000/60000 [==============================] - 1s - loss: 0.1096 - val_loss: 0.1075\n",
      "Epoch 41/50\n",
      "60000/60000 [==============================] - 1s - loss: 0.1089 - val_loss: 0.1068\n",
      "Epoch 42/50\n",
      "60000/60000 [==============================] - 1s - loss: 0.1082 - val_loss: 0.1062\n",
      "Epoch 43/50\n",
      "60000/60000 [==============================] - 2s - loss: 0.1076 - val_loss: 0.1056\n",
      "Epoch 44/50\n",
      "60000/60000 [==============================] - 1s - loss: 0.1070 - val_loss: 0.1050\n",
      "Epoch 45/50\n",
      "60000/60000 [==============================] - 2s - loss: 0.1064 - val_loss: 0.1044\n",
      "Epoch 46/50\n",
      "60000/60000 [==============================] - 1s - loss: 0.1059 - val_loss: 0.1039\n",
      "Epoch 47/50\n",
      "60000/60000 [==============================] - 1s - loss: 0.1054 - val_loss: 0.1035\n",
      "Epoch 48/50\n",
      "60000/60000 [==============================] - 1s - loss: 0.1050 - val_loss: 0.1031\n",
      "Epoch 49/50\n",
      "60000/60000 [==============================] - 1s - loss: 0.1045 - val_loss: 0.1027\n",
      "Epoch 50/50\n",
      "60000/60000 [==============================] - 1s - loss: 0.1041 - val_loss: 0.1023\n"
     ]
    },
    {
     "data": {
      "text/plain": [
       "<keras.callbacks.History at 0x7fcce5792d30>"
      ]
     },
     "execution_count": 20,
     "metadata": {},
     "output_type": "execute_result"
    }
   ],
   "source": [
    "autoencoder.fit(x_train, x_train,\n",
    "                epochs=50,\n",
    "                batch_size=256,\n",
    "                shuffle=True,\n",
    "                validation_data=(x_test, x_test))"
   ]
  },
  {
   "cell_type": "code",
   "execution_count": 21,
   "metadata": {
    "collapsed": true
   },
   "outputs": [],
   "source": [
    "# encode and decode some digits\n",
    "# note that we take them from the *test* set\n",
    "encoded_imgs = encoder.predict(x_test)\n",
    "decoded_imgs = decoder.predict(encoded_imgs)"
   ]
  },
  {
   "cell_type": "code",
   "execution_count": 23,
   "metadata": {},
   "outputs": [
    {
     "data": {
      "image/png": "[encoded data removed]",
      "text/plain": [
       "<matplotlib.figure.Figure at 0x7fccc8492828>"
      ]
     },
     "metadata": {},
     "output_type": "display_data"
    }
   ],
   "source": [
    "import matplotlib.pyplot as plt\n",
    "%matplotlib inline\n",
    "\n",
    "n = 10  # how many digits we will display\n",
    "plt.figure(figsize=(20, 4))\n",
    "for i in range(n):\n",
    "    # display original\n",
    "    ax = plt.subplot(2, n, i + 1)\n",
    "    plt.imshow(x_test[i].reshape(28, 28))\n",
    "    plt.gray()\n",
    "    ax.get_xaxis().set_visible(False)\n",
    "    ax.get_yaxis().set_visible(False)\n",
    "\n",
    "    # display reconstruction\n",
    "    ax = plt.subplot(2, n, i + 1 + n)\n",
    "    plt.imshow(decoded_imgs[i].reshape(28, 28))\n",
    "    plt.gray()\n",
    "    ax.get_xaxis().set_visible(False)\n",
    "    ax.get_yaxis().set_visible(False)\n",
    "plt.show()"
   ]
  },
  {
   "cell_type": "code",
   "execution_count": 24,
   "metadata": {
    "collapsed": true
   },
   "outputs": [],
   "source": [
    "from keras import regularizers"
   ]
  },
  {
   "cell_type": "code",
   "execution_count": 25,
   "metadata": {
    "collapsed": true
   },
   "outputs": [],
   "source": [
    "encoding_dim = 32\n",
    "\n",
    "input_img = Input(shape=(784,))\n",
    "# add a Dense layer with a L1 activity regularizer\n",
    "encoded = Dense(encoding_dim, activation='relu',\n",
    "                activity_regularizer=regularizers.l1(10e-5))(input_img)\n",
    "decoded = Dense(784, activation='sigmoid')(encoded)\n",
    "\n",
    "autoencoder = Model(input_img, decoded)"
   ]
  },
  {
   "cell_type": "code",
   "execution_count": 28,
   "metadata": {},
   "outputs": [
    {
     "name": "stdout",
     "output_type": "stream",
     "text": [
      "Train on 60000 samples, validate on 10000 samples\n",
      "Epoch 1/100\n",
      "60000/60000 [==============================] - 2s - loss: 0.2962 - val_loss: 0.2959\n",
      "Epoch 2/100\n",
      "60000/60000 [==============================] - 2s - loss: 0.2954 - val_loss: 0.2951\n",
      "Epoch 3/100\n",
      "60000/60000 [==============================] - 2s - loss: 0.2947 - val_loss: 0.2944\n",
      "Epoch 4/100\n",
      "60000/60000 [==============================] - 2s - loss: 0.2940 - val_loss: 0.2937\n",
      "Epoch 5/100\n",
      "60000/60000 [==============================] - 2s - loss: 0.2933 - val_loss: 0.2930\n",
      "Epoch 6/100\n",
      "60000/60000 [==============================] - 2s - loss: 0.2926 - val_loss: 0.2924\n",
      "Epoch 7/100\n",
      "60000/60000 [==============================] - 2s - loss: 0.2920 - val_loss: 0.2917\n",
      "Epoch 8/100\n",
      "60000/60000 [==============================] - 1s - loss: 0.2914 - val_loss: 0.2911\n",
      "Epoch 9/100\n",
      "60000/60000 [==============================] - ETA: 0s - loss: 0.290 - 2s - loss: 0.2908 - val_loss: 0.2906\n",
      "Epoch 10/100\n",
      "60000/60000 [==============================] - 2s - loss: 0.2902 - val_loss: 0.2900\n",
      "Epoch 11/100\n",
      "60000/60000 [==============================] - 2s - loss: 0.2897 - val_loss: 0.2895\n",
      "Epoch 12/100\n",
      "60000/60000 [==============================] - 2s - loss: 0.2892 - val_loss: 0.2889\n",
      "Epoch 13/100\n",
      "60000/60000 [==============================] - 2s - loss: 0.2886 - val_loss: 0.2884\n",
      "Epoch 14/100\n",
      "60000/60000 [==============================] - 2s - loss: 0.2882 - val_loss: 0.2880\n",
      "Epoch 15/100\n",
      "60000/60000 [==============================] - ETA: 0s - loss: 0.287 - 2s - loss: 0.2877 - val_loss: 0.2875\n",
      "Epoch 16/100\n",
      "60000/60000 [==============================] - 2s - loss: 0.2872 - val_loss: 0.2870\n",
      "Epoch 17/100\n",
      "60000/60000 [==============================] - 2s - loss: 0.2868 - val_loss: 0.2866\n",
      "Epoch 18/100\n",
      "60000/60000 [==============================] - 2s - loss: 0.2864 - val_loss: 0.2862\n",
      "Epoch 19/100\n",
      "60000/60000 [==============================] - 2s - loss: 0.2859 - val_loss: 0.2858\n",
      "Epoch 20/100\n",
      "60000/60000 [==============================] - 2s - loss: 0.2855 - val_loss: 0.2854\n",
      "Epoch 21/100\n",
      "60000/60000 [==============================] - 2s - loss: 0.2851 - val_loss: 0.2850\n",
      "Epoch 22/100\n",
      "60000/60000 [==============================] - 2s - loss: 0.2848 - val_loss: 0.2846\n",
      "Epoch 23/100\n",
      "60000/60000 [==============================] - 2s - loss: 0.2844 - val_loss: 0.2842\n",
      "Epoch 24/100\n",
      "60000/60000 [==============================] - 2s - loss: 0.2840 - val_loss: 0.2839\n",
      "Epoch 25/100\n",
      "60000/60000 [==============================] - 2s - loss: 0.2837 - val_loss: 0.2835\n",
      "Epoch 26/100\n",
      "60000/60000 [==============================] - 2s - loss: 0.2834 - val_loss: 0.2832\n",
      "Epoch 27/100\n",
      "60000/60000 [==============================] - 2s - loss: 0.2830 - val_loss: 0.2829\n",
      "Epoch 28/100\n",
      "60000/60000 [==============================] - 2s - loss: 0.2827 - val_loss: 0.2826\n",
      "Epoch 29/100\n",
      "60000/60000 [==============================] - 1s - loss: 0.2824 - val_loss: 0.2823\n",
      "Epoch 30/100\n",
      "60000/60000 [==============================] - 2s - loss: 0.2821 - val_loss: 0.2820\n",
      "Epoch 31/100\n",
      "60000/60000 [==============================] - 2s - loss: 0.2818 - val_loss: 0.2817\n",
      "Epoch 32/100\n",
      "60000/60000 [==============================] - 1s - loss: 0.2815 - val_loss: 0.2814\n",
      "Epoch 33/100\n",
      "60000/60000 [==============================] - 2s - loss: 0.2813 - val_loss: 0.2811\n",
      "Epoch 34/100\n",
      "60000/60000 [==============================] - 1s - loss: 0.2810 - val_loss: 0.2809\n",
      "Epoch 35/100\n",
      "60000/60000 [==============================] - 1s - loss: 0.2807 - val_loss: 0.2806\n",
      "Epoch 36/100\n",
      "60000/60000 [==============================] - 1s - loss: 0.2805 - val_loss: 0.2803\n",
      "Epoch 37/100\n",
      "60000/60000 [==============================] - 1s - loss: 0.2802 - val_loss: 0.2801\n",
      "Epoch 38/100\n",
      "60000/60000 [==============================] - 1s - loss: 0.2800 - val_loss: 0.2798\n",
      "Epoch 39/100\n",
      "60000/60000 [==============================] - 1s - loss: 0.2798 - val_loss: 0.2796\n",
      "Epoch 40/100\n",
      "60000/60000 [==============================] - 1s - loss: 0.2795 - val_loss: 0.2794\n",
      "Epoch 41/100\n",
      "60000/60000 [==============================] - 1s - loss: 0.2793 - val_loss: 0.2792\n",
      "Epoch 42/100\n",
      "60000/60000 [==============================] - 1s - loss: 0.2791 - val_loss: 0.2789\n",
      "Epoch 43/100\n",
      "60000/60000 [==============================] - 1s - loss: 0.2789 - val_loss: 0.2787\n",
      "Epoch 44/100\n",
      "60000/60000 [==============================] - 1s - loss: 0.2787 - val_loss: 0.2785\n",
      "Epoch 45/100\n",
      "60000/60000 [==============================] - 1s - loss: 0.2785 - val_loss: 0.2783\n",
      "Epoch 46/100\n",
      "60000/60000 [==============================] - 1s - loss: 0.2783 - val_loss: 0.2781\n",
      "Epoch 47/100\n",
      "60000/60000 [==============================] - 1s - loss: 0.2781 - val_loss: 0.2779\n",
      "Epoch 48/100\n",
      "60000/60000 [==============================] - 1s - loss: 0.2779 - val_loss: 0.2777\n",
      "Epoch 49/100\n",
      "60000/60000 [==============================] - 1s - loss: 0.2777 - val_loss: 0.2776\n",
      "Epoch 50/100\n",
      "60000/60000 [==============================] - 1s - loss: 0.2775 - val_loss: 0.2774\n",
      "Epoch 51/100\n",
      "60000/60000 [==============================] - 1s - loss: 0.2773 - val_loss: 0.2772\n",
      "Epoch 52/100\n",
      "60000/60000 [==============================] - 1s - loss: 0.2772 - val_loss: 0.2770\n",
      "Epoch 53/100\n",
      "60000/60000 [==============================] - 1s - loss: 0.2770 - val_loss: 0.2768\n",
      "Epoch 54/100\n",
      "60000/60000 [==============================] - 1s - loss: 0.2768 - val_loss: 0.2767\n",
      "Epoch 55/100\n",
      "60000/60000 [==============================] - 1s - loss: 0.2767 - val_loss: 0.2765\n",
      "Epoch 56/100\n",
      "60000/60000 [==============================] - 1s - loss: 0.2765 - val_loss: 0.2764\n",
      "Epoch 57/100\n",
      "60000/60000 [==============================] - 1s - loss: 0.2763 - val_loss: 0.2762\n",
      "Epoch 58/100\n",
      "60000/60000 [==============================] - 1s - loss: 0.2762 - val_loss: 0.2761\n",
      "Epoch 59/100\n",
      "60000/60000 [==============================] - 1s - loss: 0.2760 - val_loss: 0.2759\n",
      "Epoch 60/100\n",
      "60000/60000 [==============================] - 1s - loss: 0.2759 - val_loss: 0.2758\n",
      "Epoch 61/100\n",
      "60000/60000 [==============================] - 1s - loss: 0.2758 - val_loss: 0.2756\n",
      "Epoch 62/100\n",
      "60000/60000 [==============================] - 1s - loss: 0.2756 - val_loss: 0.2755\n",
      "Epoch 63/100\n",
      "60000/60000 [==============================] - 1s - loss: 0.2755 - val_loss: 0.2753\n",
      "Epoch 64/100\n",
      "60000/60000 [==============================] - 1s - loss: 0.2753 - val_loss: 0.2752\n",
      "Epoch 65/100\n",
      "60000/60000 [==============================] - 1s - loss: 0.2752 - val_loss: 0.2751\n",
      "Epoch 66/100\n",
      "60000/60000 [==============================] - 1s - loss: 0.2751 - val_loss: 0.2749\n",
      "Epoch 67/100\n",
      "60000/60000 [==============================] - 1s - loss: 0.2750 - val_loss: 0.2748\n",
      "Epoch 68/100\n",
      "60000/60000 [==============================] - 1s - loss: 0.2748 - val_loss: 0.2747\n",
      "Epoch 69/100\n",
      "60000/60000 [==============================] - 2s - loss: 0.2747 - val_loss: 0.2746\n",
      "Epoch 70/100\n",
      "60000/60000 [==============================] - 2s - loss: 0.2746 - val_loss: 0.2744\n",
      "Epoch 71/100\n",
      "60000/60000 [==============================] - 2s - loss: 0.2745 - val_loss: 0.2743\n",
      "Epoch 72/100\n",
      "60000/60000 [==============================] - 2s - loss: 0.2743 - val_loss: 0.2742\n",
      "Epoch 73/100\n",
      "60000/60000 [==============================] - 2s - loss: 0.2742 - val_loss: 0.2741\n",
      "Epoch 74/100\n",
      "60000/60000 [==============================] - 2s - loss: 0.2741 - val_loss: 0.2740\n",
      "Epoch 75/100\n",
      "60000/60000 [==============================] - 2s - loss: 0.2740 - val_loss: 0.2739\n",
      "Epoch 76/100\n",
      "60000/60000 [==============================] - 2s - loss: 0.2739 - val_loss: 0.2738\n",
      "Epoch 77/100\n",
      "60000/60000 [==============================] - 1s - loss: 0.2738 - val_loss: 0.2736\n",
      "Epoch 78/100\n",
      "60000/60000 [==============================] - 1s - loss: 0.2737 - val_loss: 0.2735\n",
      "Epoch 79/100\n",
      "60000/60000 [==============================] - 1s - loss: 0.2736 - val_loss: 0.2734\n",
      "Epoch 80/100\n",
      "60000/60000 [==============================] - 2s - loss: 0.2735 - val_loss: 0.2733\n",
      "Epoch 81/100\n",
      "60000/60000 [==============================] - 1s - loss: 0.2734 - val_loss: 0.2732\n",
      "Epoch 82/100\n",
      "60000/60000 [==============================] - 1s - loss: 0.2733 - val_loss: 0.2731\n",
      "Epoch 83/100\n",
      "60000/60000 [==============================] - 2s - loss: 0.2732 - val_loss: 0.2730\n",
      "Epoch 84/100\n",
      "60000/60000 [==============================] - 1s - loss: 0.2731 - val_loss: 0.2729\n",
      "Epoch 85/100\n",
      "60000/60000 [==============================] - 1s - loss: 0.2730 - val_loss: 0.2729\n",
      "Epoch 86/100\n",
      "60000/60000 [==============================] - 1s - loss: 0.2729 - val_loss: 0.2728\n",
      "Epoch 87/100\n",
      "60000/60000 [==============================] - 1s - loss: 0.2728 - val_loss: 0.2727\n",
      "Epoch 88/100\n",
      "60000/60000 [==============================] - 2s - loss: 0.2727 - val_loss: 0.2726\n",
      "Epoch 89/100\n",
      "60000/60000 [==============================] - 1s - loss: 0.2727 - val_loss: 0.2725\n",
      "Epoch 90/100\n",
      "60000/60000 [==============================] - 1s - loss: 0.2726 - val_loss: 0.2724\n",
      "Epoch 91/100\n",
      "60000/60000 [==============================] - 2s - loss: 0.2725 - val_loss: 0.2723\n",
      "Epoch 92/100\n",
      "60000/60000 [==============================] - 2s - loss: 0.2724 - val_loss: 0.2722\n",
      "Epoch 93/100\n",
      "60000/60000 [==============================] - 2s - loss: 0.2723 - val_loss: 0.2722\n",
      "Epoch 94/100\n",
      "60000/60000 [==============================] - 2s - loss: 0.2722 - val_loss: 0.2721\n",
      "Epoch 95/100\n",
      "60000/60000 [==============================] - 2s - loss: 0.2722 - val_loss: 0.2720\n",
      "Epoch 96/100\n",
      "60000/60000 [==============================] - 2s - loss: 0.2721 - val_loss: 0.2719\n",
      "Epoch 97/100\n",
      "60000/60000 [==============================] - 2s - loss: 0.2720 - val_loss: 0.2718\n",
      "Epoch 98/100\n",
      "60000/60000 [==============================] - 2s - loss: 0.2719 - val_loss: 0.2718\n",
      "Epoch 99/100\n",
      "60000/60000 [==============================] - 1s - loss: 0.2719 - val_loss: 0.2717\n",
      "Epoch 100/100\n",
      "60000/60000 [==============================] - 1s - loss: 0.2718 - val_loss: 0.2716\n"
     ]
    },
    {
     "data": {
      "text/plain": [
       "<keras.callbacks.History at 0x7fccab9526d8>"
      ]
     },
     "execution_count": 28,
     "metadata": {},
     "output_type": "execute_result"
    }
   ],
   "source": [
    "autoencoder.compile(optimizer='adadelta', loss='binary_crossentropy')\n",
    "autoencoder.fit(x_train, x_train,\n",
    "                epochs=100,\n",
    "                batch_size=256,\n",
    "                shuffle=True,\n",
    "                validation_data=(x_test, x_test))"
   ]
  },
  {
   "cell_type": "code",
   "execution_count": 30,
   "metadata": {
    "collapsed": true
   },
   "outputs": [],
   "source": [
    "import os\n",
    "os.environ[\"CUDA_DEVICE_ORDER\"] = \"PCI_BUS_ID\"   # see issue #152\n",
    "os.environ[\"CUDA_VISIBLE_DEVICES\"] = \"\""
   ]
  },
  {
   "cell_type": "code",
   "execution_count": 6,
   "metadata": {},
   "outputs": [
    {
     "name": "stdout",
     "output_type": "stream",
     "text": [
      "[name: \"/cpu:0\"\n",
      "device_type: \"CPU\"\n",
      "memory_limit: 268435456\n",
      "locality {\n",
      "}\n",
      "incarnation: 10844054653596964144\n",
      ", name: \"/gpu:0\"\n",
      "device_type: \"GPU\"\n",
      "memory_limit: 209649664\n",
      "locality {\n",
      "  bus_id: 1\n",
      "}\n",
      "incarnation: 5814308990410084344\n",
      "physical_device_desc: \"device: 0, name: GeForce GTX 745, pci bus id: 0000:01:00.0\"\n",
      "]\n"
     ]
    }
   ],
   "source": [
    "from tensorflow.python.client import device_lib\n",
    "print(device_lib.list_local_devices())"
   ]
  },
  {
   "cell_type": "code",
   "execution_count": 7,
   "metadata": {},
   "outputs": [
    {
     "name": "stdout",
     "output_type": "stream",
     "text": [
      "<tensorflow.python.client.session.Session object at 0x7fe5664b9588>\n"
     ]
    }
   ],
   "source": [
    "import tensorflow as tf\n",
    "sess = tf.Session(config=tf.ConfigProto(log_device_placement=True))\n",
    "print(sess)"
   ]
  },
  {
   "cell_type": "code",
   "execution_count": 5,
   "metadata": {},
   "outputs": [
    {
     "name": "stdout",
     "output_type": "stream",
     "text": [
      "/home/prapan/anaconda3/lib/python3.6/site-packages/ipykernel_launcher.py\n"
     ]
    }
   ],
   "source": [
    "import sys\n",
    "import tensorflow as tf\n",
    "tf.__version__\n",
    "device_name = sys.argv[0]\n",
    "print(device_name)"
   ]
  },
  {
   "cell_type": "code",
   "execution_count": null,
   "metadata": {
    "collapsed": true
   },
   "outputs": [],
   "source": []
  }
 ],
 "metadata": {
  "kernelspec": {
   "display_name": "Python 3",
   "language": "python",
   "name": "python3"
  },
  "language_info": {
   "codemirror_mode": {
    "name": "ipython",
    "version": 3
   },
   "file_extension": ".py",
   "mimetype": "text/x-python",
   "name": "python",
   "nbconvert_exporter": "python",
   "pygments_lexer": "ipython3",
   "version": "3.6.1"
  }
 },
 "nbformat": 4,
 "nbformat_minor": 2
}
